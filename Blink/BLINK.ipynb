{
 "cells": [
  {
   "cell_type": "markdown",
   "id": "8ebe2cc9",
   "metadata": {},
   "source": [
    "## Blink Micropython ESP8266\n"
   ]
  },
  {
   "cell_type": "markdown",
   "id": "d507de81",
   "metadata": {},
   "source": [
    "### Primeiramente, Vamos criar o circuito.\n"
   ]
  },
  {
   "cell_type": "markdown",
   "id": "6ecc7745",
   "metadata": {},
   "source": [
    "![caption](files/circuito.png)"
   ]
  },
  {
   "cell_type": "markdown",
   "id": "0714eb84",
   "metadata": {},
   "source": [
    "### Conectar\n"
   ]
  },
  {
   "cell_type": "code",
   "execution_count": 2,
   "id": "f7da3b31",
   "metadata": {},
   "outputs": [
    {
     "name": "stdout",
     "output_type": "stream",
     "text": [
      "\u001b[34mConnecting to --port=/dev/ttyUSB2 --baud=115200 \u001b[0m\n",
      "\u001b[34mReady.\n",
      "\u001b[0m"
     ]
    }
   ],
   "source": [
    "%serialconnect to --port=/dev/ttyUSB2 --baud=115200"
   ]
  },
  {
   "cell_type": "markdown",
   "id": "b9c0d9a2",
   "metadata": {},
   "source": [
    "### Importar as pricipais bibliotecas\n"
   ]
  },
  {
   "cell_type": "code",
   "execution_count": 3,
   "id": "5c5120ee",
   "metadata": {},
   "outputs": [],
   "source": [
    "from machine import Pin # para usar o pino\n",
    "from time import sleep # vai funcionar com um delay"
   ]
  },
  {
   "cell_type": "markdown",
   "id": "a981b3c5",
   "metadata": {},
   "source": [
    "### Declarar variável que vai armazenar o pin de saída do LED\n"
   ]
  },
  {
   "cell_type": "markdown",
   "id": "9dc8cfa7",
   "metadata": {},
   "source": [
    "![caption](files/pinagem.png)\n"
   ]
  },
  {
   "cell_type": "code",
   "execution_count": 4,
   "id": "e8aa4b4f",
   "metadata": {},
   "outputs": [],
   "source": [
    "ledBlue = Pin(0, Pin.OUT) # led azul"
   ]
  },
  {
   "cell_type": "markdown",
   "id": "87bb7e29",
   "metadata": {},
   "source": [
    "### Ascender e Apagar um LED"
   ]
  },
  {
   "cell_type": "code",
   "execution_count": 27,
   "id": "c82bac52",
   "metadata": {},
   "outputs": [],
   "source": [
    "# ascender\n",
    "# ledBlue.value(1)\n",
    "ledBlue.on()"
   ]
  },
  {
   "cell_type": "code",
   "execution_count": 28,
   "id": "70c8e298",
   "metadata": {},
   "outputs": [],
   "source": [
    "# apagar\n",
    "# ledBlue.value(0)\n",
    "ledBlue.off()"
   ]
  },
  {
   "cell_type": "markdown",
   "id": "50831726",
   "metadata": {},
   "source": [
    "### Pisca LED\n"
   ]
  },
  {
   "cell_type": "code",
   "execution_count": 5,
   "id": "e72b4f41",
   "metadata": {},
   "outputs": [
    {
     "name": "stdout",
     "output_type": "stream",
     "text": [
      "Led ligado\n",
      "Led desligado\n",
      "Led ligado\n",
      "Led desligado\n",
      "Led ligado\n",
      "Led desligado\n",
      "Led ligado\n",
      "Led desligado\n",
      "Led ligado\n",
      "Led desligado\n",
      ".Led ligado\n",
      "Led desligado\n",
      "Led ligado\n",
      "Led desligado\n",
      "Led ligado\n",
      "Led desligado\n",
      "Led ligado\n",
      "Led desligado\n",
      "Led ligado\n",
      "Led desligado\n",
      ".Led ligado\n",
      "Led desligado\n",
      "Led ligado\n",
      "Led desligado\n",
      "Led ligado\n",
      "Led desligado\n",
      "Led ligado\n",
      "Led desligado\n",
      "Led ligado\n",
      "Led desligado\n",
      ".Led ligado\n",
      "Led desligado\n",
      "Led ligado\n",
      "Led desligado\n",
      "Led ligado\n",
      "Led desligado\n",
      "Led ligado\n",
      "Led desligado\n",
      "Led ligado\n",
      "Led desligado\n",
      "."
     ]
    }
   ],
   "source": [
    "# vamos fazer um for?\n",
    "for i in range(20):\n",
    "    ledBlue.on()\n",
    "    print(\"Led ligado\")\n",
    "    sleep(1)\n",
    "    ledBlue.off()\n",
    "    print(\"Led desligado\")\n",
    "    sleep(1)"
   ]
  },
  {
   "cell_type": "markdown",
   "id": "dc403cb0",
   "metadata": {},
   "source": [
    "### Controlando o LED com uma função"
   ]
  },
  {
   "cell_type": "code",
   "execution_count": 21,
   "id": "2a255442",
   "metadata": {},
   "outputs": [],
   "source": [
    "# criando uma função BlinkOnce\n",
    "# status variável para saber se\n",
    "# o led liga ou desliga\n",
    "def ledBlinkOnce(status):\n",
    "    \n",
    "    if(status): \n",
    "        ledBlue.on()\n",
    "    else:\n",
    "        ledBlue.off()\n",
    "\n",
    "# criando uma função BlinkLoop\n",
    "# number -> número de vezes que o led irá piscar\n",
    "def ledBlinkLoop(number):\n",
    "    \n",
    "    for i in range(number):\n",
    "        ledBlinkOnce(True)\n",
    "        print(\"Led ligado\")\n",
    "        sleep(1)\n",
    "        ledBlinkOnce(False)\n",
    "        print(\"Led desligado\")\n",
    "        sleep(1)"
   ]
  },
  {
   "cell_type": "code",
   "execution_count": 33,
   "id": "cc10eeb2",
   "metadata": {},
   "outputs": [
    {
     "name": "stdout",
     "output_type": "stream",
     "text": [
      "Led ligado\n",
      "Led desligado\n",
      "Led ligado\n",
      "Led desligado\n",
      "Led ligado\n",
      "Led desligado\n",
      "Led ligado\n",
      "Led desligado\n"
     ]
    }
   ],
   "source": [
    "ledBlinkLoop(4)"
   ]
  },
  {
   "cell_type": "code",
   "execution_count": null,
   "id": "83d814df",
   "metadata": {},
   "outputs": [],
   "source": []
  }
 ],
 "metadata": {
  "kernelspec": {
   "display_name": "MicroPython - USB",
   "language": "micropython",
   "name": "micropython"
  },
  "language_info": {
   "codemirror_mode": "python",
   "file_extension": ".py",
   "mimetype": "text/python",
   "name": "micropython"
  }
 },
 "nbformat": 4,
 "nbformat_minor": 5
}
